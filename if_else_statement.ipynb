{
  "nbformat": 4,
  "nbformat_minor": 0,
  "metadata": {
    "colab": {
      "provenance": []
    },
    "kernelspec": {
      "name": "python3",
      "display_name": "Python 3"
    },
    "language_info": {
      "name": "python"
    }
  },
  "cells": [
    {
      "cell_type": "markdown",
      "source": [
        "#if else Statement"
      ],
      "metadata": {
        "id": "57s5vdTUMd0Y"
      }
    },
    {
      "cell_type": "code",
      "execution_count": 2,
      "metadata": {
        "colab": {
          "base_uri": "https://localhost:8080/"
        },
        "id": "GdsK4eSDMXNZ",
        "outputId": "da68233d-4774-448c-c3c0-7e8548b71d02"
      },
      "outputs": [
        {
          "output_type": "stream",
          "name": "stdout",
          "text": [
            "a is greater number\n"
          ]
        }
      ],
      "source": [
        "a = 50\n",
        "b = 26\n",
        "\n",
        "if(a>b):\n",
        "  print('a is greater number')\n",
        "else:\n",
        "  print('b is greater number')"
      ]
    },
    {
      "cell_type": "code",
      "source": [
        "a = int(input('Enter a first number :'))\n",
        "b = int(input('Enter a second number :'))\n",
        "\n",
        "if(a>b):\n",
        "  print('a is greater number')\n",
        "else:\n",
        "  print('b is greater number')"
      ],
      "metadata": {
        "colab": {
          "base_uri": "https://localhost:8080/"
        },
        "id": "Yr2M7D2YNLZZ",
        "outputId": "ddb4ccb0-b5a3-4f74-8045-51d5b303942a"
      },
      "execution_count": 4,
      "outputs": [
        {
          "output_type": "stream",
          "name": "stdout",
          "text": [
            "Enter a first number :56\n",
            "Enter a second number :78\n",
            "b is greater number\n"
          ]
        }
      ]
    },
    {
      "cell_type": "markdown",
      "source": [
        "# if elif else statment"
      ],
      "metadata": {
        "id": "ZfuHdPmrNqM3"
      }
    },
    {
      "cell_type": "code",
      "source": [
        "a = 23\n",
        "b = 34\n",
        "c = 56\n",
        "\n",
        "if(b<a<c):\n",
        "  print('a is greater number')\n",
        "elif(a<b>c):\n",
        "  print('b is greater number')\n",
        "else:\n",
        "  print('c is the greater number')"
      ],
      "metadata": {
        "colab": {
          "base_uri": "https://localhost:8080/"
        },
        "id": "j1u64p2sNxPz",
        "outputId": "5f38ffb6-02a8-4988-80f4-832d225ab781"
      },
      "execution_count": 5,
      "outputs": [
        {
          "output_type": "stream",
          "name": "stdout",
          "text": [
            "c is the greater number\n"
          ]
        }
      ]
    },
    {
      "cell_type": "markdown",
      "source": [
        "# nested if statement"
      ],
      "metadata": {
        "id": "xhRUHDEyOcVh"
      }
    },
    {
      "cell_type": "code",
      "source": [
        "a = 23\n",
        "b = 34\n",
        "c = 56\n",
        "\n",
        "if(a>b):\n",
        "  if(a>c):\n",
        "    print('a is the greater number')\n",
        "  else:\n",
        "    print('c is the greater number')\n",
        "else:\n",
        "  if( b>c):\n",
        "     print('b is the greater number')\n",
        "  else:\n",
        "    print('c is the greater number')"
      ],
      "metadata": {
        "colab": {
          "base_uri": "https://localhost:8080/"
        },
        "id": "2aIHhV4VOi8Y",
        "outputId": "74fc42f9-de3b-4069-f118-d29371b23f39"
      },
      "execution_count": 6,
      "outputs": [
        {
          "output_type": "stream",
          "name": "stdout",
          "text": [
            "c is the greater number\n"
          ]
        }
      ]
    }
  ]
}